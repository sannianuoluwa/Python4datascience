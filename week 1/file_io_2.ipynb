{
 "cells": [
  {
   "cell_type": "code",
   "execution_count": 5,
   "id": "09bab9e0",
   "metadata": {},
   "outputs": [
    {
     "name": "stdout",
     "output_type": "stream",
     "text": [
      "This is line one\n",
      "This is line two\n",
      "This is line three\n",
      "This is line four\n",
      "- Additional text added\n",
      "- Additional text added\n"
     ]
    }
   ],
   "source": [
    "file_obj = open(\"C:/Users/HP/Desktop/data science/week 1/python_file.txt\",\"r\")\n",
    "my_text = file_obj.read()\n",
    "file_obj.close()\n",
    "print(my_text)"
   ]
  },
  {
   "cell_type": "code",
   "execution_count": 4,
   "id": "dbb64f65",
   "metadata": {},
   "outputs": [],
   "source": [
    "file_obj = open(\"C:/Users/HP/Desktop/data science/week 1/python_file.txt\",\"a+\")\n",
    "file_obj.write(\"\\n- Additional text added\")\n",
    "file_obj.close()"
   ]
  },
  {
   "cell_type": "code",
   "execution_count": 8,
   "id": "24b36640",
   "metadata": {},
   "outputs": [
    {
     "name": "stdout",
     "output_type": "stream",
     "text": [
      "True\n"
     ]
    }
   ],
   "source": [
    "import os \n",
    "\n",
    "file_check = os.path.exists(\"C:/Users/HP/Desktop/data science/week 1/python_file.txt\")\n",
    "print(file_check)"
   ]
  },
  {
   "cell_type": "code",
   "execution_count": 9,
   "id": "6eee064b",
   "metadata": {},
   "outputs": [
    {
     "name": "stdout",
     "output_type": "stream",
     "text": [
      "True\n"
     ]
    }
   ],
   "source": [
    "import os \n",
    "\n",
    "file_check = os.path.isfile(\"C:/Users/HP/Desktop/data science/week 1/python_file.txt\")\n",
    "print(file_check)"
   ]
  },
  {
   "cell_type": "code",
   "execution_count": null,
   "id": "16283f08",
   "metadata": {},
   "outputs": [],
   "source": []
  }
 ],
 "metadata": {
  "kernelspec": {
   "display_name": "Python 3 (ipykernel)",
   "language": "python",
   "name": "python3"
  },
  "language_info": {
   "codemirror_mode": {
    "name": "ipython",
    "version": 3
   },
   "file_extension": ".py",
   "mimetype": "text/x-python",
   "name": "python",
   "nbconvert_exporter": "python",
   "pygments_lexer": "ipython3",
   "version": "3.10.9"
  }
 },
 "nbformat": 4,
 "nbformat_minor": 5
}

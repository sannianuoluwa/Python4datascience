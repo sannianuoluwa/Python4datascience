{
 "cells": [
  {
   "cell_type": "code",
   "execution_count": 4,
   "id": "50c966e5",
   "metadata": {},
   "outputs": [
    {
     "name": "stdout",
     "output_type": "stream",
     "text": [
      "This is the first line\n",
      "This is the second line\n",
      "This is the third line\n",
      "This is the fourth line\n"
     ]
    }
   ],
   "source": [
    "file_obj = open(\"C:/Users/HP/Desktop/data science/week 1/Python_file.txt\", \"r\")\n",
    "my_text = file_obj.read()\n",
    "file_obj.close()\n",
    "print(my_text)"
   ]
  },
  {
   "cell_type": "code",
   "execution_count": null,
   "id": "792eb37f",
   "metadata": {},
   "outputs": [],
   "source": [
    "file_obj = open(\"C:/Users/HP/Desktop/data science/week 1/Python_file.txt\", \"r\")\n",
    "file_obj.write(\"\\n- Additional text added\")\n",
    "file_obj.close()"
   ]
  },
  {
   "cell_type": "code",
   "execution_count": null,
   "id": "d2c33d95",
   "metadata": {},
   "outputs": [],
   "source": []
  }
 ],
 "metadata": {
  "kernelspec": {
   "display_name": "Python 3 (ipykernel)",
   "language": "python",
   "name": "python3"
  },
  "language_info": {
   "codemirror_mode": {
    "name": "ipython",
    "version": 3
   },
   "file_extension": ".py",
   "mimetype": "text/x-python",
   "name": "python",
   "nbconvert_exporter": "python",
   "pygments_lexer": "ipython3",
   "version": "3.10.9"
  }
 },
 "nbformat": 4,
 "nbformat_minor": 5
}

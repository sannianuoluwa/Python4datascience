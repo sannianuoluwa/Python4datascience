{
 "cells": [
  {
   "cell_type": "code",
   "execution_count": 2,
   "id": "b2e1fc46",
   "metadata": {},
   "outputs": [
    {
     "name": "stdout",
     "output_type": "stream",
     "text": [
      "The area of a circle = 78.55\n"
     ]
    }
   ],
   "source": [
    "pi = 3.142\n",
    "r = 5\n",
    "area = pi*r*r\n",
    "print('The area of a circle = ' + str(area)) "
   ]
  },
  {
   "cell_type": "code",
   "execution_count": null,
   "id": "d7f0480a",
   "metadata": {},
   "outputs": [],
   "source": []
  }
 ],
 "metadata": {
  "kernelspec": {
   "display_name": "Python 3 (ipykernel)",
   "language": "python",
   "name": "python3"
  },
  "language_info": {
   "codemirror_mode": {
    "name": "ipython",
    "version": 3
   },
   "file_extension": ".py",
   "mimetype": "text/x-python",
   "name": "python",
   "nbconvert_exporter": "python",
   "pygments_lexer": "ipython3",
   "version": "3.10.9"
  }
 },
 "nbformat": 4,
 "nbformat_minor": 5
}

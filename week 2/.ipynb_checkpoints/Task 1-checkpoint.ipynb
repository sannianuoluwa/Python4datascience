{
 "cells": [
  {
   "cell_type": "code",
   "execution_count": 3,
   "id": "6784215d",
   "metadata": {},
   "outputs": [
    {
     "name": "stdout",
     "output_type": "stream",
     "text": [
      "Please enter your birth year e.g 1990: 1970\n",
      "\n",
      "Enter the current year e.g 2023: 2023\n",
      "\n",
      "Your age is: 53\n"
     ]
    }
   ],
   "source": [
    "# This program calculates the age of a person\n",
    "birth_year = int(input(\"Please enter your birth year e.g 1990: \"))\n",
    "current_year = int(input(\"\\nEnter the current year e.g 2023: \"))\n",
    "age = current_year - birth_year\n",
    "print(\"\\nYour age is: \"+str(age))"
   ]
  },
  {
   "cell_type": "markdown",
   "id": "1dce9920",
   "metadata": {},
   "source": [
    "b = 5\n",
    "a = 10\n",
    "area_of_a_triangle = 0.5 * a * b\n",
    "print(\"\\n The area of the triangle is: \"+str(area_of_a_triangle))"
   ]
  },
  {
   "cell_type": "code",
   "execution_count": 3,
   "id": "454aac0e",
   "metadata": {},
   "outputs": [
    {
     "name": "stdout",
     "output_type": "stream",
     "text": [
      "Please enter the value of the base 5\n",
      "\n",
      "Please enter the value of the height 10\n",
      "\n",
      "The area of the triangle is: 25.0\n"
     ]
    }
   ],
   "source": [
    "#This program accepts parameters to calculate the area of a triangle\n",
    "base = float(input(\"Please enter the value of the base \"))\n",
    "height = float(input(\"\\nPlease enter the value of the height \"))\n",
    "area_of_a_triangle = 0.5 * base * height\n",
    "print(\"\\nThe area of the triangle is: \"+str(area_of_a_triangle))               "
   ]
  },
  {
   "cell_type": "code",
   "execution_count": null,
   "id": "5959dca2",
   "metadata": {},
   "outputs": [],
   "source": []
  }
 ],
 "metadata": {
  "kernelspec": {
   "display_name": "Python 3 (ipykernel)",
   "language": "python",
   "name": "python3"
  },
  "language_info": {
   "codemirror_mode": {
    "name": "ipython",
    "version": 3
   },
   "file_extension": ".py",
   "mimetype": "text/x-python",
   "name": "python",
   "nbconvert_exporter": "python",
   "pygments_lexer": "ipython3",
   "version": "3.10.9"
  }
 },
 "nbformat": 4,
 "nbformat_minor": 5
}

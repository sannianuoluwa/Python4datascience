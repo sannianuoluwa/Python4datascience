{
 "cells": [
  {
   "cell_type": "code",
   "execution_count": 4,
   "id": "3174b1d8",
   "metadata": {},
   "outputs": [
    {
     "name": "stdout",
     "output_type": "stream",
     "text": [
      "0\n",
      "1\n",
      "2\n",
      "3\n",
      "4\n",
      "5\n",
      "6\n",
      "7\n",
      "8\n",
      "9\n"
     ]
    }
   ],
   "source": [
    "#using built-in functions\n",
    "number_range = range(10)\n",
    "for i in number_range:\n",
    "    print (i)"
   ]
  },
  {
   "cell_type": "code",
   "execution_count": 5,
   "id": "b4762957",
   "metadata": {},
   "outputs": [
    {
     "name": "stdout",
     "output_type": "stream",
     "text": [
      "[20, 30, 40, 35]\n",
      "sam max score is 40\n",
      "sam min score is 20\n"
     ]
    }
   ],
   "source": [
    "#list\n",
    "sam = [20,30,40,35]\n",
    "print(sam)\n",
    "sam_max_score = max(sam)\n",
    "print(\"sam max score is \" + str(sam_max_score))\n",
    "sam_min_score = min(sam)\n",
    "print(\"sam min score is \" + str(sam_min_score))\n"
   ]
  },
  {
   "cell_type": "code",
   "execution_count": 12,
   "id": "ca93eeb3",
   "metadata": {
    "scrolled": false
   },
   "outputs": [
    {
     "name": "stdout",
     "output_type": "stream",
     "text": [
      "hello world\n",
      "HELLO WORLD\n"
     ]
    }
   ],
   "source": [
    "#common built-in string functions\n",
    "text_a = \"hello world\"\n",
    "text_a_lower = text_a.lower()\n",
    "text_a_upper = text_a.upper()\n",
    "print(text_a_lower)\n",
    "print(text_a_upper)"
   ]
  },
  {
   "cell_type": "code",
   "execution_count": 7,
   "id": "f064107a",
   "metadata": {},
   "outputs": [
    {
     "name": "stdout",
     "output_type": "stream",
     "text": [
      "182.0\n"
     ]
    }
   ],
   "source": [
    "x = 36/4*(3+2)*4+2 \n",
    "print(x)"
   ]
  },
  {
   "cell_type": "code",
   "execution_count": 13,
   "id": "ee788c85",
   "metadata": {},
   "outputs": [
    {
     "name": "stdout",
     "output_type": "stream",
     "text": [
      "2\n",
      "4\n",
      "6\n",
      "8\n",
      "10\n",
      "12\n",
      "14\n",
      "16\n",
      "18\n",
      "20\n"
     ]
    }
   ],
   "source": [
    "#using built-in functions\n",
    "number_range = range(2,22,2)\n",
    "for i in number_range:\n",
    "    print (i)"
   ]
  },
  {
   "cell_type": "code",
   "execution_count": null,
   "id": "553c44e0",
   "metadata": {},
   "outputs": [],
   "source": [
    "# This program calculates the age of a person\n",
    "birth_year = int(input(\"Please enter your birth year e.g 1990: \"))\n",
    "current_year = int(input(\"\\nEnter the current year e.g 2023: \"))\n",
    "age = current_year - birth_year\n",
    "print(\"\\nYour age is: \"+str(age))"
   ]
  },
  {
   "cell_type": "code",
   "execution_count": 17,
   "id": "204945f7",
   "metadata": {},
   "outputs": [
    {
     "data": {
      "text/plain": [
       "21"
      ]
     },
     "execution_count": 17,
     "metadata": {},
     "output_type": "execute_result"
    }
   ],
   "source": [
    "a=5\n",
    "b=16\n",
    "a + b"
   ]
  },
  {
   "cell_type": "code",
   "execution_count": 19,
   "id": "8893cb43",
   "metadata": {},
   "outputs": [
    {
     "name": "stdout",
     "output_type": "stream",
     "text": [
      "Please enter a number 3\n",
      "\n",
      " the cube is 27.0\n"
     ]
    }
   ],
   "source": [
    "number = float(input(\"Please enter a number \"))\n",
    "cube = number **3\n",
    "print(\"\\n the cube is \" + str(cube))"
   ]
  },
  {
   "cell_type": "code",
   "execution_count": null,
   "id": "0197ace1",
   "metadata": {},
   "outputs": [],
   "source": []
  }
 ],
 "metadata": {
  "kernelspec": {
   "display_name": "Python 3 (ipykernel)",
   "language": "python",
   "name": "python3"
  },
  "language_info": {
   "codemirror_mode": {
    "name": "ipython",
    "version": 3
   },
   "file_extension": ".py",
   "mimetype": "text/x-python",
   "name": "python",
   "nbconvert_exporter": "python",
   "pygments_lexer": "ipython3",
   "version": "3.10.9"
  }
 },
 "nbformat": 4,
 "nbformat_minor": 5
}
